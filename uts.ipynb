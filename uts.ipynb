{
 "cells": [
  {
   "cell_type": "code",
   "execution_count": 16,
   "metadata": {},
   "outputs": [],
   "source": [
    "# Import library yang dibutuhkan\n",
    "import pandas as pd\n",
    "import numpy as np\n",
    "import matplotlib.pyplot as plt\n",
    "import seaborn as sns\n",
    "from sklearn.model_selection import train_test_split, cross_val_score, GridSearchCV\n",
    "from sklearn.preprocessing import StandardScaler, OneHotEncoder\n",
    "from sklearn.compose import ColumnTransformer\n",
    "from sklearn.pipeline import Pipeline\n",
    "from sklearn.tree import DecisionTreeClassifier\n",
    "from sklearn.metrics import classification_report, confusion_matrix, accuracy_score, precision_score, recall_score, f1_score, roc_curve, auc\n",
    "from sklearn import tree\n",
    "import warnings\n",
    "warnings.filterwarnings('ignore')\n",
    "\n",
    "# 1. LOAD DATASET\n",
    "df = pd.read_csv('dataset_buys _comp.csv')\n"
   ]
  },
  {
   "cell_type": "code",
   "execution_count": 17,
   "metadata": {},
   "outputs": [
    {
     "name": "stdout",
     "output_type": "stream",
     "text": [
      "Informasi Dataset:\n",
      "<class 'pandas.core.frame.DataFrame'>\n",
      "RangeIndex: 1000 entries, 0 to 999\n",
      "Data columns (total 5 columns):\n",
      " #   Column         Non-Null Count  Dtype \n",
      "---  ------         --------------  ----- \n",
      " 0   Age            1000 non-null   object\n",
      " 1   Income         1000 non-null   object\n",
      " 2   Student        1000 non-null   object\n",
      " 3   Credit_Rating  1000 non-null   object\n",
      " 4   Buys_Computer  1000 non-null   int64 \n",
      "dtypes: int64(1), object(4)\n",
      "memory usage: 39.2+ KB\n",
      "None\n",
      "\n",
      "Statistik Deskriptif:\n",
      "       Buys_Computer\n",
      "count    1000.000000\n",
      "mean        0.669000\n",
      "std         0.470809\n",
      "min         0.000000\n",
      "25%         0.000000\n",
      "50%         1.000000\n",
      "75%         1.000000\n",
      "max         1.000000\n",
      "\n",
      "Jumlah nilai yang hilang:\n",
      "Age              0\n",
      "Income           0\n",
      "Student          0\n",
      "Credit_Rating    0\n",
      "Buys_Computer    0\n",
      "dtype: int64\n",
      "\n",
      "Distribusi kelas target:\n",
      "Buys_Computer\n",
      "1    0.669\n",
      "0    0.331\n",
      "Name: proportion, dtype: float64\n"
     ]
    }
   ],
   "source": [
    "# 2. EKSPLORASI DATA\n",
    "print(\"Informasi Dataset:\")\n",
    "print(df.info())\n",
    "print(\"\\nStatistik Deskriptif:\")\n",
    "print(df.describe())\n",
    "\n",
    "# Cek nilai yang hilang\n",
    "print(\"\\nJumlah nilai yang hilang:\")\n",
    "print(df.isnull().sum())\n",
    "\n",
    "# Melihat distribusi target\n",
    "print(\"\\nDistribusi kelas target:\")\n",
    "print(df['Buys_Computer'].value_counts(normalize=True))\n",
    "\n",
    "# Visualisasi distribusi target\n",
    "plt.figure(figsize=(8, 6))\n",
    "sns.countplot(x='Buys_Computer', data=df)\n",
    "plt.title('Distribusi Kelayakan Kredit')\n",
    "plt.xlabel('Kelayakan')\n",
    "plt.ylabel('Jumlah')\n",
    "plt.savefig('distribusi_kelayakan.png')\n",
    "plt.close()"
   ]
  },
  {
   "cell_type": "code",
   "execution_count": 18,
   "metadata": {},
   "outputs": [
    {
     "name": "stdout",
     "output_type": "stream",
     "text": [
      "\n",
      "Fitur Kategorikal: ['Age', 'Income', 'Student', 'Credit_Rating']\n",
      "Fitur Numerikal: []\n"
     ]
    }
   ],
   "source": [
    "# 3. PREPROCESSING DATA\n",
    "X = df.iloc[:, :-1]  \n",
    "y = df.iloc[:, -1] \n",
    "\n",
    "# Membagi fitur menjadi kategorikal dan numerikal\n",
    "categorical_cols = X.select_dtypes(include=['object', 'category']).columns\n",
    "numerical_cols = X.select_dtypes(include=['int64', 'float64']).columns\n",
    "\n",
    "print(f\"\\nFitur Kategorikal: {categorical_cols.tolist()}\")\n",
    "print(f\"Fitur Numerikal: {numerical_cols.tolist()}\")"
   ]
  },
  {
   "cell_type": "code",
   "execution_count": 19,
   "metadata": {},
   "outputs": [],
   "source": [
    "# 4. FEATURE ENGINEERING & ENCODING\n",
    "# Membuat preprocessor menggunakan ColumnTransformer\n",
    "preprocessor = ColumnTransformer(\n",
    "    transformers=[\n",
    "        ('num', StandardScaler(), numerical_cols),\n",
    "        ('cat', OneHotEncoder(handle_unknown='ignore'), categorical_cols)\n",
    "    ])"
   ]
  },
  {
   "cell_type": "code",
   "execution_count": 20,
   "metadata": {},
   "outputs": [
    {
     "name": "stdout",
     "output_type": "stream",
     "text": [
      "\n",
      "Jumlah data training: 800\n",
      "Jumlah data testing: 200\n"
     ]
    }
   ],
   "source": [
    "# 5. PEMBAGIAN DATA (TRAIN-TEST SPLIT)\n",
    "X_train, X_test, y_train, y_test = train_test_split(X, y, test_size=0.2, random_state=42, stratify=y)\n",
    "\n",
    "print(f\"\\nJumlah data training: {X_train.shape[0]}\")\n",
    "print(f\"Jumlah data testing: {X_test.shape[0]}\")"
   ]
  },
  {
   "cell_type": "code",
   "execution_count": 21,
   "metadata": {},
   "outputs": [],
   "source": [
    "# 6. PEMBUATAN MODEL DECISION TREE\n",
    "# Membuat pipeline dengan preprocessor dan model\n",
    "dt_pipeline = Pipeline([\n",
    "    ('preprocessor', preprocessor),\n",
    "    ('classifier', DecisionTreeClassifier(random_state=42))\n",
    "])"
   ]
  },
  {
   "cell_type": "code",
   "execution_count": 22,
   "metadata": {},
   "outputs": [
    {
     "name": "stdout",
     "output_type": "stream",
     "text": [
      "\n",
      "Evaluasi Model Awal:\n",
      "Accuracy: 0.8100\n",
      "Precision: 0.8322\n",
      "Recall: 0.8100\n",
      "F1 Score: 0.8146\n"
     ]
    }
   ],
   "source": [
    "# 7. PELATIHAN MODEL\n",
    "dt_pipeline.fit(X_train, y_train)\n",
    "\n",
    "# 8. EVALUASI AWAL MODEL\n",
    "y_pred = dt_pipeline.predict(X_test)\n",
    "\n",
    "# Metrik evaluasi\n",
    "print(\"\\nEvaluasi Model Awal:\")\n",
    "print(f\"Accuracy: {accuracy_score(y_test, y_pred):.4f}\")\n",
    "print(f\"Precision: {precision_score(y_test, y_pred, average='weighted'):.4f}\")\n",
    "print(f\"Recall: {recall_score(y_test, y_pred, average='weighted'):.4f}\")\n",
    "print(f\"F1 Score: {f1_score(y_test, y_pred, average='weighted'):.4f}\")\n",
    "\n",
    "# Confusion Matrix\n",
    "plt.figure(figsize=(8, 6))\n",
    "cm = confusion_matrix(y_test, y_pred)\n",
    "sns.heatmap(cm, annot=True, fmt='d', cmap='Blues')\n",
    "plt.title('Confusion Matrix')\n",
    "plt.ylabel('Actual')\n",
    "plt.xlabel('Predicted')\n",
    "plt.savefig('confusion_matrix.png')\n",
    "plt.close()"
   ]
  },
  {
   "cell_type": "code",
   "execution_count": 23,
   "metadata": {},
   "outputs": [
    {
     "name": "stdout",
     "output_type": "stream",
     "text": [
      "\n",
      "Parameter terbaik:\n",
      "{'classifier__criterion': 'gini', 'classifier__max_depth': None, 'classifier__min_samples_leaf': 1, 'classifier__min_samples_split': 2}\n"
     ]
    }
   ],
   "source": [
    "# 9. HYPERPARAMETER TUNING\n",
    "# Menggunakan Grid Search untuk menemukan parameter terbaik\n",
    "param_grid = {\n",
    "    'classifier__max_depth': [None, 5, 10, 15, 20],\n",
    "    'classifier__min_samples_split': [2, 5, 10],\n",
    "    'classifier__min_samples_leaf': [1, 2, 4],\n",
    "    'classifier__criterion': ['gini', 'entropy']\n",
    "}\n",
    "\n",
    "grid_search = GridSearchCV(\n",
    "    dt_pipeline,\n",
    "    param_grid,\n",
    "    cv=5,\n",
    "    scoring='f1_weighted',\n",
    "    n_jobs=-1\n",
    ")\n",
    "\n",
    "grid_search.fit(X_train, y_train)\n",
    "\n",
    "# Menampilkan parameter terbaik\n",
    "print(\"\\nParameter terbaik:\")\n",
    "print(grid_search.best_params_)\n"
   ]
  },
  {
   "cell_type": "code",
   "execution_count": 24,
   "metadata": {},
   "outputs": [
    {
     "name": "stdout",
     "output_type": "stream",
     "text": [
      "\n",
      "Evaluasi Model Final (Setelah Hyperparameter Tuning):\n",
      "Accuracy: 0.8100\n",
      "Precision: 0.8322\n",
      "Recall: 0.8100\n",
      "F1 Score: 0.8146\n",
      "\n",
      "Classification Report:\n",
      "              precision    recall  f1-score   support\n",
      "\n",
      "           0       0.67      0.85      0.75        66\n",
      "           1       0.91      0.79      0.85       134\n",
      "\n",
      "    accuracy                           0.81       200\n",
      "   macro avg       0.79      0.82      0.80       200\n",
      "weighted avg       0.83      0.81      0.81       200\n",
      "\n"
     ]
    }
   ],
   "source": [
    "# 10. MODEL FINAL DENGAN PARAMETER TERBAIK\n",
    "best_dt_pipeline = grid_search.best_estimator_\n",
    "y_pred_best = best_dt_pipeline.predict(X_test)\n",
    "\n",
    "# Evaluasi model final\n",
    "print(\"\\nEvaluasi Model Final (Setelah Hyperparameter Tuning):\")\n",
    "print(f\"Accuracy: {accuracy_score(y_test, y_pred_best):.4f}\")\n",
    "print(f\"Precision: {precision_score(y_test, y_pred_best, average='weighted'):.4f}\")\n",
    "print(f\"Recall: {recall_score(y_test, y_pred_best, average='weighted'):.4f}\")\n",
    "print(f\"F1 Score: {f1_score(y_test, y_pred_best, average='weighted'):.4f}\")\n",
    "\n",
    "# Classification Report\n",
    "print(\"\\nClassification Report:\")\n",
    "print(classification_report(y_test, y_pred_best))\n"
   ]
  },
  {
   "cell_type": "code",
   "execution_count": 25,
   "metadata": {},
   "outputs": [],
   "source": [
    "\n",
    "# 11. VISUALISASI DECISION TREE (jika ukuran tree tidak terlalu besar)\n",
    "# Mengambil model Decision Tree dari pipeline\n",
    "dt_classifier = best_dt_pipeline.named_steps['classifier']\n",
    "\n",
    "# Mendapatkan feature names setelah preprocessing\n",
    "feature_names = []\n",
    "for name, _, cols in preprocessor.transformers_:\n",
    "    if name == 'cat':\n",
    "        encoder = preprocessor.named_transformers_['cat']\n",
    "        cats = encoder.get_feature_names_out(categorical_cols)\n",
    "        feature_names.extend(cats)\n",
    "    else:\n",
    "        feature_names.extend(numerical_cols)\n",
    "\n",
    "# Visualisasi Decision Tree\n",
    "plt.figure(figsize=(20, 10))\n",
    "tree.plot_tree(dt_classifier, feature_names=feature_names, filled=True, max_depth=3)\n",
    "plt.title('Decision Tree (depth=3)')\n",
    "plt.savefig('decision_tree.png', dpi=300, bbox_inches='tight')\n",
    "plt.close()\n"
   ]
  },
  {
   "cell_type": "code",
   "execution_count": 26,
   "metadata": {},
   "outputs": [
    {
     "name": "stdout",
     "output_type": "stream",
     "text": [
      "\n",
      "Feature Importances:\n",
      "Age_Tua: 0.3081\n",
      "Credit_Rating_Baik: 0.1449\n",
      "Student_Tidak: 0.1364\n",
      "Income_Tinggi: 0.1272\n",
      "Age_Muda: 0.1006\n",
      "Age_Paruh Baya: 0.0696\n",
      "Credit_Rating_Buruk: 0.0620\n",
      "Student_Ya: 0.0266\n",
      "Income_Rendah: 0.0195\n",
      "Income_Sedang: 0.0052\n"
     ]
    }
   ],
   "source": [
    "# 12. FEATURE IMPORTANCE\n",
    "# Melihat feature importance\n",
    "if hasattr(dt_classifier, 'feature_importances_'):\n",
    "    importances = dt_classifier.feature_importances_\n",
    "    indices = np.argsort(importances)[::-1]\n",
    "    \n",
    "    plt.figure(figsize=(12, 8))\n",
    "    plt.title('Feature Importances')\n",
    "    plt.bar(range(len(importances)), importances[indices], align='center')\n",
    "    plt.xticks(range(len(importances)), [feature_names[i] for i in indices], rotation=90)\n",
    "    plt.tight_layout()\n",
    "    plt.savefig('feature_importance.png')\n",
    "    plt.close()\n",
    "    \n",
    "    print(\"\\nFeature Importances:\")\n",
    "    for i in range(len(importances)):\n",
    "        print(f\"{feature_names[indices[i]]}: {importances[indices[i]]:.4f}\")"
   ]
  },
  {
   "cell_type": "code",
   "execution_count": 27,
   "metadata": {},
   "outputs": [
    {
     "name": "stdout",
     "output_type": "stream",
     "text": [
      "\n",
      "Cross-Validation Scores:\n",
      "F1 scores: [0.79731838 0.86285406 0.78156863 0.80035405 0.76704206]\n",
      "Mean F1 score: 0.8018\n",
      "Standard deviation: 0.0328\n"
     ]
    }
   ],
   "source": [
    "# 13. VALIDASI SILANG (CROSS-VALIDATION)\n",
    "cv_scores = cross_val_score(best_dt_pipeline, X, y, cv=5, scoring='f1_weighted')\n",
    "print(\"\\nCross-Validation Scores:\")\n",
    "print(f\"F1 scores: {cv_scores}\")\n",
    "print(f\"Mean F1 score: {cv_scores.mean():.4f}\")\n",
    "print(f\"Standard deviation: {cv_scores.std():.4f}\")"
   ]
  },
  {
   "cell_type": "code",
   "execution_count": 28,
   "metadata": {},
   "outputs": [
    {
     "name": "stdout",
     "output_type": "stream",
     "text": [
      "\n",
      "AUC-ROC: 0.9292\n"
     ]
    }
   ],
   "source": [
    "# 14. KURVA ROC (untuk kasus biner)\n",
    "# Jika kelayakan_kredit adalah masalah biner (ya/tidak)\n",
    "try:\n",
    "    y_proba = best_dt_pipeline.predict_proba(X_test)[:, 1]\n",
    "    fpr, tpr, _ = roc_curve(y_test, y_proba)\n",
    "    roc_auc = auc(fpr, tpr)\n",
    "    \n",
    "    plt.figure(figsize=(8, 6))\n",
    "    plt.plot(fpr, tpr, label=f'AUC = {roc_auc:.4f}')\n",
    "    plt.plot([0, 1], [0, 1], 'k--')\n",
    "    plt.xlabel('False Positive Rate')\n",
    "    plt.ylabel('True Positive Rate')\n",
    "    plt.title('ROC Curve')\n",
    "    plt.legend(loc='lower right')\n",
    "    plt.savefig('roc_curve.png')\n",
    "    plt.close()\n",
    "    \n",
    "    print(f\"\\nAUC-ROC: {roc_auc:.4f}\")\n",
    "except:\n",
    "    print(\"\\nKurva ROC tidak dapat dibuat (mungkin bukan masalah biner atau format target tidak sesuai)\")\n"
   ]
  },
  {
   "cell_type": "code",
   "execution_count": 29,
   "metadata": {},
   "outputs": [
    {
     "name": "stdout",
     "output_type": "stream",
     "text": [
      "\n",
      "Model berhasil disimpan sebagai 'decision_tree_credit_model.pkl'\n",
      "\n",
      "Contoh Prediksi:\n",
      "Sampel 1: Prediksi = 1\n",
      "Sampel 2: Prediksi = 1\n",
      "Sampel 3: Prediksi = 1\n",
      "Sampel 4: Prediksi = 1\n",
      "Sampel 5: Prediksi = 0\n",
      "\n",
      "Proses pemodelan selesai!\n"
     ]
    }
   ],
   "source": [
    "# 15. SIMPAN MODEL\n",
    "import joblib\n",
    "joblib.dump(best_dt_pipeline, 'decision_tree_credit_model.pkl')\n",
    "print(\"\\nModel berhasil disimpan sebagai 'decision_tree_credit_model.pkl'\")\n",
    "\n",
    "# 16. CONTOH PREDIKSI\n",
    "# Ambil beberapa sample untuk prediksi\n",
    "sample = X_test.iloc[:5]\n",
    "predictions = best_dt_pipeline.predict(sample)\n",
    "print(\"\\nContoh Prediksi:\")\n",
    "for i, pred in enumerate(predictions):\n",
    "    print(f\"Sampel {i+1}: Prediksi = {pred}\")\n",
    "\n",
    "print(\"\\nProses pemodelan selesai!\")"
   ]
  }
 ],
 "metadata": {
  "kernelspec": {
   "display_name": "Python 3",
   "language": "python",
   "name": "python3"
  },
  "language_info": {
   "codemirror_mode": {
    "name": "ipython",
    "version": 3
   },
   "file_extension": ".py",
   "mimetype": "text/x-python",
   "name": "python",
   "nbconvert_exporter": "python",
   "pygments_lexer": "ipython3",
   "version": "3.13.2"
  }
 },
 "nbformat": 4,
 "nbformat_minor": 2
}
